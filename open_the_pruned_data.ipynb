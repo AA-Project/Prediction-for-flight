{
 "cells": [
  {
   "cell_type": "code",
   "execution_count": 13,
   "id": "42823848",
   "metadata": {},
   "outputs": [],
   "source": [
    "import pickle\n",
    "with open('./hrrrdata/output_2020-03-04.dat', 'rb') as f:\n",
    "    data = pickle.load(f)"
   ]
  },
  {
   "cell_type": "code",
   "execution_count": 14,
   "id": "5c1aae5f",
   "metadata": {},
   "outputs": [
    {
     "data": {
      "text/plain": [
       "{'00_clock_cloudtop_real': array([[-999., -999., -999., ..., -999., -999., -999.],\n",
       "        [-999., -999., -999., ..., -999., -999., -999.],\n",
       "        [-999., -999., -999., ..., -999., -999., -999.],\n",
       "        ...,\n",
       "        [-999., -999., -999., ..., -999., -999., -999.],\n",
       "        [-999., -999., -999., ..., -999., -999., -999.],\n",
       "        [-999., -999., -999., ..., -999., -999., -999.]]),\n",
       " '00_clock_VIL_real': array([[0., 0., 0., ..., 0., 0., 0.],\n",
       "        [0., 0., 0., ..., 0., 0., 0.],\n",
       "        [0., 0., 0., ..., 0., 0., 0.],\n",
       "        ...,\n",
       "        [0., 0., 0., ..., 0., 0., 0.],\n",
       "        [0., 0., 0., ..., 0., 0., 0.],\n",
       "        [0., 0., 0., ..., 0., 0., 0.]]),\n",
       " '00_clock_cloudtop_60_predict': array([[-999., -999., -999., ..., -999., -999., -999.],\n",
       "        [-999., -999., -999., ..., -999., -999., -999.],\n",
       "        [-999., -999., -999., ..., -999., -999., -999.],\n",
       "        ...,\n",
       "        [-999., -999., -999., ..., -999., -999., -999.],\n",
       "        [-999., -999., -999., ..., -999., -999., -999.],\n",
       "        [-999., -999., -999., ..., -999., -999., -999.]]),\n",
       " '00_clock_VIL_60_predict': array([[0., 0., 0., ..., 0., 0., 0.],\n",
       "        [0., 0., 0., ..., 0., 0., 0.],\n",
       "        [0., 0., 0., ..., 0., 0., 0.],\n",
       "        ...,\n",
       "        [0., 0., 0., ..., 0., 0., 0.],\n",
       "        [0., 0., 0., ..., 0., 0., 0.],\n",
       "        [0., 0., 0., ..., 0., 0., 0.]])}"
      ]
     },
     "execution_count": 14,
     "metadata": {},
     "output_type": "execute_result"
    }
   ],
   "source": [
    "data"
   ]
  },
  {
   "cell_type": "code",
   "execution_count": 5,
   "id": "2d852784",
   "metadata": {},
   "outputs": [
    {
     "data": {
      "text/plain": [
       "array([[0., 0., 0., ..., 0., 0., 0.],\n",
       "       [0., 0., 0., ..., 0., 0., 0.],\n",
       "       [0., 0., 0., ..., 0., 0., 0.],\n",
       "       ...,\n",
       "       [0., 0., 0., ..., 0., 0., 0.],\n",
       "       [0., 0., 0., ..., 0., 0., 0.],\n",
       "       [0., 0., 0., ..., 0., 0., 0.]])"
      ]
     },
     "execution_count": 5,
     "metadata": {},
     "output_type": "execute_result"
    }
   ],
   "source": [
    "data['20200301_00_VIL_predict']"
   ]
  },
  {
   "cell_type": "code",
   "execution_count": null,
   "id": "2d24451e",
   "metadata": {},
   "outputs": [],
   "source": []
  }
 ],
 "metadata": {
  "kernelspec": {
   "display_name": "Python 3 (ipykernel)",
   "language": "python",
   "name": "python3"
  },
  "language_info": {
   "codemirror_mode": {
    "name": "ipython",
    "version": 3
   },
   "file_extension": ".py",
   "mimetype": "text/x-python",
   "name": "python",
   "nbconvert_exporter": "python",
   "pygments_lexer": "ipython3",
   "version": "3.7.12"
  }
 },
 "nbformat": 4,
 "nbformat_minor": 5
}
